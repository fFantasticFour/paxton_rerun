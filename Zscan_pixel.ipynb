{
 "cells": [
  {
   "cell_type": "code",
   "execution_count": 42,
   "metadata": {},
   "outputs": [],
   "source": [
    "import pickle\n",
    "import numpy as np\n",
    "import pandas as pd\n",
    "from matplotlib import pyplot as plt\n",
    "from astropy.io          import fits\n",
    "\n",
    "import redmapper\n",
    "from redmapper import RunZScan\n",
    "from redmapper import Configuration\n",
    "\n",
    "from tqdm.notebook import tqdm\n",
    "from multiprocess import Pool\n",
    "import time"
   ]
  },
  {
   "cell_type": "code",
   "execution_count": 43,
   "metadata": {},
   "outputs": [
    {
     "data": {
      "text/plain": [
       "['/home/mr.bwolfe/.conda/envs/redmapper/lib/python3.7/site-packages/redmapper-0.7.28-py3.7-linux-x86_64.egg/redmapper']"
      ]
     },
     "execution_count": 43,
     "metadata": {},
     "output_type": "execute_result"
    }
   ],
   "source": [
    "redmapper.__path__"
   ]
  },
  {
   "cell_type": "code",
   "execution_count": 51,
   "metadata": {},
   "outputs": [],
   "source": [
    "#read in randoms painted with ACT cluster info\n",
    "outliers=pd.read_pickle('10000randoms.pkl')\n",
    "samp=outliers.sample(60, replace=True).reset_index(drop=True)"
   ]
  },
  {
   "cell_type": "code",
   "execution_count": 52,
   "metadata": {},
   "outputs": [],
   "source": [
    "#define my data\n",
    "RA=samp.RADeg\n",
    "DEC=samp.decDeg\n",
    "z=samp.redshift\n",
    "zerr = samp.redshiftErr\n",
    "myagn_ra=samp.agn_ra\n",
    "myagn_dec=samp.agn_dec\n",
    "agn_z=samp.agn_z\n",
    "agn_z_err=samp.agn_z_err\n",
    "#mylambda=samp.mylambda\n",
    "mylambda=np.repeat(0,len(samp))\n",
    "cen_err=1.483/samp.fixed_SNR-0.012\n",
    "\n",
    "#Define columns by hand? Is there something less ugly?\n",
    "col1 = fits.Column(name='RA', format='E', array=np.array(RA))\n",
    "col2 = fits.Column(name='DEC', format='E', array=np.array(DEC))\n",
    "col3 = fits.Column(name='CEN_ERR', format='E',array=np.array(cen_err))\n",
    "col4 = fits.Column(name='MYZ', format='E',array=np.array(z))\n",
    "col5 = fits.Column(name='MYZERR', format='E',array=np.array(zerr))\n",
    "col6 = fits.Column(name='AGN_RA', format='E',array=np.array(myagn_ra))\n",
    "col7 = fits.Column(name='AGN_DEC', format='E',array=np.array(myagn_dec))\n",
    "col8 = fits.Column(name='AGN_Z', format='E',array=np.array(agn_z))\n",
    "col9 = fits.Column(name='AGN_Z_ERR', format='E',array=np.array(agn_z_err))\n",
    "col10 = fits.Column(name='MYLAMBDA', format='E',array=np.array(mylambda))\n",
    "col11 = fits.Column(name='MYLAMBDA_ERR', format='E',array=np.array(mylambda))\n",
    "\n",
    "coldefs = fits.ColDefs([col1, col2, col3,col4,col5,col6,col7,col8,col9,col10,col11])\n",
    "hdu = fits.BinTableHDU.from_columns(coldefs)\n",
    "\n",
    "fname='bigtable.fits'\n",
    "hdu.writeto(fname,overwrite=True)"
   ]
  },
  {
   "cell_type": "code",
   "execution_count": 53,
   "metadata": {},
   "outputs": [
    {
     "data": {
      "text/plain": [
       "18"
      ]
     },
     "execution_count": 53,
     "metadata": {},
     "output_type": "execute_result"
    }
   ],
   "source": [
    "#pixarr='18 29 30 31 32 33 34 46 47 48 49 50 51 52 53 67 68 69 70 71 72 73 74 75 76 92 93 94 95 96 97 98 99 100 101 102 103 104 112 121 122 123 124 125 126 127 128 129 130 131 132 133 134 135 143 144 145 146 147 154 155 156 157 158 159 160 161 162 163 164 165 166 167 174 175 176 177 178 179 186 187 188 189 190 191 192 193 194 195 196 197 198 199 204 205 206 207 208 209 210 211 218 219 220 221 222 223 224 225 226 227 228 229 230 231 237 238 239 240 241 242 250 251 252 253 254 255 256 257 258 259 260 261 262 269 270 271 272 273 274 275 282 283 284 285 286 287 288 289 290 291 292 293 294 301 302 303 304 305 306 307 314 315 316 317 318 319 320 321 322 323 324 325 326 332 333 334 335 336 337 338 339 340 347 348 349 350 351 352 353 354 355 356 357 358 364 365 366 367 368 369 370 371 378 379 380 381 382 383 384 385 386 387 388 389 396 397 398 399 400 401 402 403 404 411 412 413 414 415 416 417 418 419 420 421 428 429 430 431 432 433 434 435 460 461 462 463 464 465 466 467 494 495'\n",
    "pixarr='18 29 30 31'\n",
    "pixarr = [int(x) for x in pixarr.split()]\n",
    "pixarr[0]"
   ]
  },
  {
   "cell_type": "code",
   "execution_count": 54,
   "metadata": {},
   "outputs": [],
   "source": [
    "file_path = '/home/mr.bwolfe/myredmapper/run'\n",
    "conffile = 'run.yml'\n",
    "config = Configuration(file_path + '/' + conffile)\n",
    "fn=file_path + '/' + conffile"
   ]
  },
  {
   "cell_type": "code",
   "execution_count": 50,
   "metadata": {},
   "outputs": [
    {
     "name": "stdout",
     "output_type": "stream",
     "text": [
      "Running zscan on pixel 18\n",
      "Reading in catalog file...Wolfe style...\n",
      "Working on RA 150.153610, DEC 57.386063, Uncertainty 0.396056, redshift 0.429956, zerr 0.014338\n",
      "18: Working on cluster 0 of 60\n",
      "Writing catalog to file: ./dr8_run_8_00018_redmapper_v0.6.3_zscan_catalog.fit\n",
      "Warning: no members generated for ./dr8_run_8_00018_redmapper_v0.6.3_zscan_catalog.fit\n",
      "Running zscan on pixel 29\n",
      "Reading in catalog file...Wolfe style...\n",
      "Working on RA 150.153610, DEC 57.386063, Uncertainty 0.396056, redshift 0.429956, zerr 0.014338\n",
      "29: Working on cluster 0 of 60\n",
      "Writing catalog to file: ./dr8_run_8_00029_redmapper_v0.6.3_zscan_catalog.fit\n",
      "Warning: no members generated for ./dr8_run_8_00029_redmapper_v0.6.3_zscan_catalog.fit\n",
      "Running zscan on pixel 30\n",
      "Reading in catalog file...Wolfe style...\n",
      "Working on RA 150.153610, DEC 57.386063, Uncertainty 0.396056, redshift 0.429956, zerr 0.014338\n",
      "30: Working on cluster 0 of 60\n",
      "Writing catalog to file: ./dr8_run_8_00030_redmapper_v0.6.3_zscan_catalog.fit\n",
      "Warning: no members generated for ./dr8_run_8_00030_redmapper_v0.6.3_zscan_catalog.fit\n",
      "Running zscan on pixel 31\n",
      "Reading in catalog file...Wolfe style...\n",
      "Working on RA 150.153610, DEC 57.386063, Uncertainty 0.396056, redshift 0.429956, zerr 0.014338\n",
      "31: Working on cluster 0 of 60\n",
      "Process_cluster was passed RA 178.363388, DEC 68.078857, Uncertainty 0.315439, redshift 0.350733, zerr 0.012863\n",
      "Writing catalog to file: ./dr8_run_8_00031_redmapper_v0.6.3_zscan_catalog.fit\n",
      "Warning: no members generated for ./dr8_run_8_00031_redmapper_v0.6.3_zscan_catalog.fit\n"
     ]
    }
   ],
   "source": [
    "for i in pixarr:\n",
    "    runZScanPixelTask = redmapper.pipeline.RunZScanPixelTask(fn, i, 8, path='./')\n",
    "    runZScanPixelTask.run()"
   ]
  }
 ],
 "metadata": {
  "kernelspec": {
   "display_name": "Python 3",
   "language": "python",
   "name": "python3"
  },
  "language_info": {
   "codemirror_mode": {
    "name": "ipython",
    "version": 3
   },
   "file_extension": ".py",
   "mimetype": "text/x-python",
   "name": "python",
   "nbconvert_exporter": "python",
   "pygments_lexer": "ipython3",
   "version": "3.7.9"
  }
 },
 "nbformat": 4,
 "nbformat_minor": 4
}
