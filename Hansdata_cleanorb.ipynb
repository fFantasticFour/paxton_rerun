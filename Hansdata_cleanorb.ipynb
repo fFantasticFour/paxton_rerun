{
 "cells": [
  {
   "cell_type": "code",
   "execution_count": 1,
   "metadata": {},
   "outputs": [],
   "source": [
    "import tables\n",
    "import pandas as pd\n",
    "import numpy as np\n",
    "import h5py\n",
    "from tqdm.notebook import tqdm\n",
    "from matplotlib import pyplot as plt\n",
    "from scipy import stats\n",
    "from iminuit import Minuit\n",
    "import math\n",
    "import scipy.optimize as optimize\n",
    "from mpl_toolkits.axes_grid1.inset_locator import inset_axes\n",
    "import emcee\n",
    "from scipy.constants import c\n",
    "from scipy.special import erf\n",
    "from scipy.stats import hypsecant\n",
    "from scipy.stats import norm\n",
    "from scipy.stats import laplace\n",
    "\n",
    "from scipy.integrate import quad\n",
    "\n",
    "from colossus.cosmology import cosmology\n",
    "from colossus.lss import peaks\n",
    "from colossus.halo import mass_so\n",
    "from colossus.halo import concentration\n",
    "\n",
    "from intergrid.intergrid import Intergrid\n",
    "%load_ext cython"
   ]
  },
  {
   "cell_type": "code",
   "execution_count": 152,
   "metadata": {},
   "outputs": [
    {
     "data": {
      "application/vnd.jupyter.widget-view+json": {
       "model_id": "c1667ae1f65545f692ce52b86c270925",
       "version_major": 2,
       "version_minor": 0
      },
      "text/plain": [
       "  0%|          | 0/50 [00:00<?, ?it/s]"
      ]
     },
     "metadata": {},
     "output_type": "display_data"
    }
   ],
   "source": [
    "# new../\n",
    "# old ./\n",
    "for i in tqdm(range(50)):\n",
    "    filename='../Downloads/UM_2d-20220418T173722Z-001/UM_2d/new_mock_2d_'+str(i)+'.npy'\n",
    "    d = np.load(filename)\n",
    "    df=pd.DataFrame.from_records(d.tolist(), columns=d.dtype.names)\n",
    "    if i==0: df2=df\n",
    "    else: df2=df2.append(df)"
   ]
  },
  {
   "cell_type": "code",
   "execution_count": 153,
   "metadata": {
    "scrolled": true
   },
   "outputs": [
    {
     "data": {
      "text/html": [
       "<div>\n",
       "<style scoped>\n",
       "    .dataframe tbody tr th:only-of-type {\n",
       "        vertical-align: middle;\n",
       "    }\n",
       "\n",
       "    .dataframe tbody tr th {\n",
       "        vertical-align: top;\n",
       "    }\n",
       "\n",
       "    .dataframe thead th {\n",
       "        text-align: right;\n",
       "    }\n",
       "</style>\n",
       "<table border=\"1\" class=\"dataframe\">\n",
       "  <thead>\n",
       "    <tr style=\"text-align: right;\">\n",
       "      <th></th>\n",
       "      <th>id</th>\n",
       "      <th>upid</th>\n",
       "      <th>x</th>\n",
       "      <th>y</th>\n",
       "      <th>z</th>\n",
       "      <th>vz</th>\n",
       "      <th>sm</th>\n",
       "      <th>sfr</th>\n",
       "      <th>icl</th>\n",
       "      <th>mp</th>\n",
       "      <th>...</th>\n",
       "      <th>hostr</th>\n",
       "      <th>rich_red_sp</th>\n",
       "      <th>mar</th>\n",
       "      <th>Vol</th>\n",
       "      <th>n</th>\n",
       "      <th>ainf</th>\n",
       "      <th>vravg</th>\n",
       "      <th>bin3d</th>\n",
       "      <th>bin</th>\n",
       "      <th>tag</th>\n",
       "    </tr>\n",
       "  </thead>\n",
       "  <tbody>\n",
       "    <tr>\n",
       "      <th>0</th>\n",
       "      <td>10423006138</td>\n",
       "      <td>-1</td>\n",
       "      <td>4.031440</td>\n",
       "      <td>17.234131</td>\n",
       "      <td>91.366623</td>\n",
       "      <td>267.779999</td>\n",
       "      <td>1.265675e+12</td>\n",
       "      <td>1.576690</td>\n",
       "      <td>9.841825e+11</td>\n",
       "      <td>1.092859e+14</td>\n",
       "      <td>...</td>\n",
       "      <td>0.976222</td>\n",
       "      <td>31.0</td>\n",
       "      <td>0.287099</td>\n",
       "      <td>3.897041</td>\n",
       "      <td>1</td>\n",
       "      <td>0.3023</td>\n",
       "      <td>NaN</td>\n",
       "      <td>0</td>\n",
       "      <td>0</td>\n",
       "      <td>1</td>\n",
       "    </tr>\n",
       "    <tr>\n",
       "      <th>1</th>\n",
       "      <td>30000005231481032</td>\n",
       "      <td>10423006138</td>\n",
       "      <td>4.156453</td>\n",
       "      <td>16.853609</td>\n",
       "      <td>91.404953</td>\n",
       "      <td>-93.482491</td>\n",
       "      <td>7.514302e+10</td>\n",
       "      <td>0.072503</td>\n",
       "      <td>2.526506e+10</td>\n",
       "      <td>6.548751e+12</td>\n",
       "      <td>...</td>\n",
       "      <td>0.976222</td>\n",
       "      <td>31.0</td>\n",
       "      <td>0.287099</td>\n",
       "      <td>3.897041</td>\n",
       "      <td>1</td>\n",
       "      <td>0.0000</td>\n",
       "      <td>0.000000</td>\n",
       "      <td>6</td>\n",
       "      <td>6</td>\n",
       "      <td>0</td>\n",
       "    </tr>\n",
       "    <tr>\n",
       "      <th>2</th>\n",
       "      <td>32000004879831165</td>\n",
       "      <td>10423006138</td>\n",
       "      <td>3.719872</td>\n",
       "      <td>17.296618</td>\n",
       "      <td>91.075821</td>\n",
       "      <td>-586.436646</td>\n",
       "      <td>3.497926e+10</td>\n",
       "      <td>0.075920</td>\n",
       "      <td>5.277254e+08</td>\n",
       "      <td>1.145720e+12</td>\n",
       "      <td>...</td>\n",
       "      <td>0.976222</td>\n",
       "      <td>31.0</td>\n",
       "      <td>0.287099</td>\n",
       "      <td>3.897041</td>\n",
       "      <td>1</td>\n",
       "      <td>0.0000</td>\n",
       "      <td>0.000000</td>\n",
       "      <td>6</td>\n",
       "      <td>4</td>\n",
       "      <td>0</td>\n",
       "    </tr>\n",
       "    <tr>\n",
       "      <th>3</th>\n",
       "      <td>27000005764327304</td>\n",
       "      <td>10423006138</td>\n",
       "      <td>3.860375</td>\n",
       "      <td>17.180166</td>\n",
       "      <td>91.220757</td>\n",
       "      <td>-889.141663</td>\n",
       "      <td>6.465858e+10</td>\n",
       "      <td>0.107494</td>\n",
       "      <td>0.000000e+00</td>\n",
       "      <td>9.529140e+11</td>\n",
       "      <td>...</td>\n",
       "      <td>0.976222</td>\n",
       "      <td>31.0</td>\n",
       "      <td>0.287099</td>\n",
       "      <td>3.897041</td>\n",
       "      <td>1</td>\n",
       "      <td>0.0000</td>\n",
       "      <td>0.000000</td>\n",
       "      <td>3</td>\n",
       "      <td>2</td>\n",
       "      <td>0</td>\n",
       "    </tr>\n",
       "    <tr>\n",
       "      <th>4</th>\n",
       "      <td>16000007722938411</td>\n",
       "      <td>10423006138</td>\n",
       "      <td>3.409460</td>\n",
       "      <td>17.631683</td>\n",
       "      <td>91.215752</td>\n",
       "      <td>165.205124</td>\n",
       "      <td>5.195008e+10</td>\n",
       "      <td>0.110130</td>\n",
       "      <td>0.000000e+00</td>\n",
       "      <td>8.070051e+11</td>\n",
       "      <td>...</td>\n",
       "      <td>0.976222</td>\n",
       "      <td>31.0</td>\n",
       "      <td>0.287099</td>\n",
       "      <td>3.897041</td>\n",
       "      <td>1</td>\n",
       "      <td>0.0000</td>\n",
       "      <td>0.000000</td>\n",
       "      <td>11</td>\n",
       "      <td>11</td>\n",
       "      <td>0</td>\n",
       "    </tr>\n",
       "    <tr>\n",
       "      <th>...</th>\n",
       "      <td>...</td>\n",
       "      <td>...</td>\n",
       "      <td>...</td>\n",
       "      <td>...</td>\n",
       "      <td>...</td>\n",
       "      <td>...</td>\n",
       "      <td>...</td>\n",
       "      <td>...</td>\n",
       "      <td>...</td>\n",
       "      <td>...</td>\n",
       "      <td>...</td>\n",
       "      <td>...</td>\n",
       "      <td>...</td>\n",
       "      <td>...</td>\n",
       "      <td>...</td>\n",
       "      <td>...</td>\n",
       "      <td>...</td>\n",
       "      <td>...</td>\n",
       "      <td>...</td>\n",
       "      <td>...</td>\n",
       "      <td>...</td>\n",
       "    </tr>\n",
       "    <tr>\n",
       "      <th>5135423</th>\n",
       "      <td>10560991948</td>\n",
       "      <td>10560991969</td>\n",
       "      <td>992.138794</td>\n",
       "      <td>938.410095</td>\n",
       "      <td>920.661682</td>\n",
       "      <td>672.460022</td>\n",
       "      <td>4.058310e+10</td>\n",
       "      <td>4.102032</td>\n",
       "      <td>2.483552e+09</td>\n",
       "      <td>4.131869e+11</td>\n",
       "      <td>...</td>\n",
       "      <td>0.823926</td>\n",
       "      <td>36.0</td>\n",
       "      <td>1.449028</td>\n",
       "      <td>2.342897</td>\n",
       "      <td>19</td>\n",
       "      <td>0.3023</td>\n",
       "      <td>188.889977</td>\n",
       "      <td>17</td>\n",
       "      <td>12</td>\n",
       "      <td>0</td>\n",
       "    </tr>\n",
       "    <tr>\n",
       "      <th>5135424</th>\n",
       "      <td>10560991881</td>\n",
       "      <td>10560991969</td>\n",
       "      <td>993.139038</td>\n",
       "      <td>937.326721</td>\n",
       "      <td>920.917542</td>\n",
       "      <td>464.279999</td>\n",
       "      <td>3.443873e+10</td>\n",
       "      <td>0.027448</td>\n",
       "      <td>5.711738e+08</td>\n",
       "      <td>7.876229e+11</td>\n",
       "      <td>...</td>\n",
       "      <td>0.823926</td>\n",
       "      <td>36.0</td>\n",
       "      <td>1.449028</td>\n",
       "      <td>2.342897</td>\n",
       "      <td>19</td>\n",
       "      <td>0.3023</td>\n",
       "      <td>608.097782</td>\n",
       "      <td>17</td>\n",
       "      <td>16</td>\n",
       "      <td>0</td>\n",
       "    </tr>\n",
       "    <tr>\n",
       "      <th>5135425</th>\n",
       "      <td>10560991965</td>\n",
       "      <td>10560991969</td>\n",
       "      <td>991.583252</td>\n",
       "      <td>938.003296</td>\n",
       "      <td>921.428833</td>\n",
       "      <td>532.679993</td>\n",
       "      <td>1.037432e+10</td>\n",
       "      <td>0.003338</td>\n",
       "      <td>7.785041e+08</td>\n",
       "      <td>3.407543e+11</td>\n",
       "      <td>...</td>\n",
       "      <td>0.823926</td>\n",
       "      <td>36.0</td>\n",
       "      <td>1.449028</td>\n",
       "      <td>2.342897</td>\n",
       "      <td>19</td>\n",
       "      <td>0.3023</td>\n",
       "      <td>506.714590</td>\n",
       "      <td>14</td>\n",
       "      <td>14</td>\n",
       "      <td>0</td>\n",
       "    </tr>\n",
       "    <tr>\n",
       "      <th>5135426</th>\n",
       "      <td>10560992045</td>\n",
       "      <td>10560991969</td>\n",
       "      <td>992.953857</td>\n",
       "      <td>937.915161</td>\n",
       "      <td>921.393127</td>\n",
       "      <td>338.950012</td>\n",
       "      <td>9.276681e+09</td>\n",
       "      <td>0.033343</td>\n",
       "      <td>3.186511e+09</td>\n",
       "      <td>7.508916e+11</td>\n",
       "      <td>...</td>\n",
       "      <td>0.823926</td>\n",
       "      <td>36.0</td>\n",
       "      <td>1.449028</td>\n",
       "      <td>2.342897</td>\n",
       "      <td>19</td>\n",
       "      <td>0.3023</td>\n",
       "      <td>139.517160</td>\n",
       "      <td>11</td>\n",
       "      <td>11</td>\n",
       "      <td>0</td>\n",
       "    </tr>\n",
       "    <tr>\n",
       "      <th>5135427</th>\n",
       "      <td>10560999773</td>\n",
       "      <td>10560999774</td>\n",
       "      <td>990.548340</td>\n",
       "      <td>937.398010</td>\n",
       "      <td>968.654297</td>\n",
       "      <td>-67.580002</td>\n",
       "      <td>1.029309e+11</td>\n",
       "      <td>3.185475</td>\n",
       "      <td>3.221329e+08</td>\n",
       "      <td>5.723448e+11</td>\n",
       "      <td>...</td>\n",
       "      <td>0.823926</td>\n",
       "      <td>36.0</td>\n",
       "      <td>1.449028</td>\n",
       "      <td>2.342897</td>\n",
       "      <td>19</td>\n",
       "      <td>0.0000</td>\n",
       "      <td>0.000000</td>\n",
       "      <td>843</td>\n",
       "      <td>32</td>\n",
       "      <td>2</td>\n",
       "    </tr>\n",
       "  </tbody>\n",
       "</table>\n",
       "<p>5135428 rows × 30 columns</p>\n",
       "</div>"
      ],
      "text/plain": [
       "                        id         upid           x           y           z  \\\n",
       "0              10423006138           -1    4.031440   17.234131   91.366623   \n",
       "1        30000005231481032  10423006138    4.156453   16.853609   91.404953   \n",
       "2        32000004879831165  10423006138    3.719872   17.296618   91.075821   \n",
       "3        27000005764327304  10423006138    3.860375   17.180166   91.220757   \n",
       "4        16000007722938411  10423006138    3.409460   17.631683   91.215752   \n",
       "...                    ...          ...         ...         ...         ...   \n",
       "5135423        10560991948  10560991969  992.138794  938.410095  920.661682   \n",
       "5135424        10560991881  10560991969  993.139038  937.326721  920.917542   \n",
       "5135425        10560991965  10560991969  991.583252  938.003296  921.428833   \n",
       "5135426        10560992045  10560991969  992.953857  937.915161  921.393127   \n",
       "5135427        10560999773  10560999774  990.548340  937.398010  968.654297   \n",
       "\n",
       "                 vz            sm       sfr           icl            mp  ...  \\\n",
       "0        267.779999  1.265675e+12  1.576690  9.841825e+11  1.092859e+14  ...   \n",
       "1        -93.482491  7.514302e+10  0.072503  2.526506e+10  6.548751e+12  ...   \n",
       "2       -586.436646  3.497926e+10  0.075920  5.277254e+08  1.145720e+12  ...   \n",
       "3       -889.141663  6.465858e+10  0.107494  0.000000e+00  9.529140e+11  ...   \n",
       "4        165.205124  5.195008e+10  0.110130  0.000000e+00  8.070051e+11  ...   \n",
       "...             ...           ...       ...           ...           ...  ...   \n",
       "5135423  672.460022  4.058310e+10  4.102032  2.483552e+09  4.131869e+11  ...   \n",
       "5135424  464.279999  3.443873e+10  0.027448  5.711738e+08  7.876229e+11  ...   \n",
       "5135425  532.679993  1.037432e+10  0.003338  7.785041e+08  3.407543e+11  ...   \n",
       "5135426  338.950012  9.276681e+09  0.033343  3.186511e+09  7.508916e+11  ...   \n",
       "5135427  -67.580002  1.029309e+11  3.185475  3.221329e+08  5.723448e+11  ...   \n",
       "\n",
       "            hostr  rich_red_sp       mar       Vol   n    ainf       vravg  \\\n",
       "0        0.976222         31.0  0.287099  3.897041   1  0.3023         NaN   \n",
       "1        0.976222         31.0  0.287099  3.897041   1  0.0000    0.000000   \n",
       "2        0.976222         31.0  0.287099  3.897041   1  0.0000    0.000000   \n",
       "3        0.976222         31.0  0.287099  3.897041   1  0.0000    0.000000   \n",
       "4        0.976222         31.0  0.287099  3.897041   1  0.0000    0.000000   \n",
       "...           ...          ...       ...       ...  ..     ...         ...   \n",
       "5135423  0.823926         36.0  1.449028  2.342897  19  0.3023  188.889977   \n",
       "5135424  0.823926         36.0  1.449028  2.342897  19  0.3023  608.097782   \n",
       "5135425  0.823926         36.0  1.449028  2.342897  19  0.3023  506.714590   \n",
       "5135426  0.823926         36.0  1.449028  2.342897  19  0.3023  139.517160   \n",
       "5135427  0.823926         36.0  1.449028  2.342897  19  0.0000    0.000000   \n",
       "\n",
       "         bin3d  bin  tag  \n",
       "0            0    0    1  \n",
       "1            6    6    0  \n",
       "2            6    4    0  \n",
       "3            3    2    0  \n",
       "4           11   11    0  \n",
       "...        ...  ...  ...  \n",
       "5135423     17   12    0  \n",
       "5135424     17   16    0  \n",
       "5135425     14   14    0  \n",
       "5135426     11   11    0  \n",
       "5135427    843   32    2  \n",
       "\n",
       "[5135428 rows x 30 columns]"
      ]
     },
     "execution_count": 153,
     "metadata": {},
     "output_type": "execute_result"
    }
   ],
   "source": [
    "df2=df2.reset_index(drop=True)\n",
    "df2"
   ]
  },
  {
   "cell_type": "code",
   "execution_count": 154,
   "metadata": {},
   "outputs": [],
   "source": [
    "r_Mpc=df2.hostr*1e6 #Pc\n",
    "G = 4.3009e-3 #M_solar^-1 pc (km/s)^2"
   ]
  },
  {
   "cell_type": "code",
   "execution_count": 155,
   "metadata": {},
   "outputs": [],
   "source": [
    "df2['vcirc']=np.sqrt(G*df2.hostm/r_Mpc)"
   ]
  },
  {
   "cell_type": "code",
   "execution_count": 252,
   "metadata": {},
   "outputs": [],
   "source": [
    "def nlnlikeorb(parameters):\n",
    "    \n",
    "    global v,r,rich, mymin, mymax\n",
    "    \n",
    "    lp=0\n",
    "\n",
    "    withinlimits=[]\n",
    "    for i in range(len(parameters)):\n",
    "        withinlimits=np.append( withinlimits, (mymin[i]<parameters[i]<mymax[i]))\n",
    "    if np.all(withinlimits.astype(bool)):\n",
    "        lp=0\n",
    "    else:\n",
    "        lp=-np.inf\n",
    "        \n",
    "    sp_orb,q_orb, alpha_orb, r_porb,alpha_rorb=parameters\n",
    "    \n",
    "    lambda_p = np.median(rich)\n",
    "    \n",
    "    r_orb = r_porb*(rich/lambda_p)**alpha_rorb\n",
    "    orb_sigmav_lam = sp_orb*(rich/lambda_p)**alpha_orb\n",
    "    orb_sigmav = orb_sigmav_lam*(q_orb*np.exp(-(r/r_orb))+1)\n",
    "\n",
    "    return np.sum(np.log(2*math.pi*(orb_sigmav**2))/2 + v**2/(2 * orb_sigmav**2) )\n",
    "#    return -np.sum(np.log(orb_dist))-lp"
   ]
  },
  {
   "cell_type": "code",
   "execution_count": 253,
   "metadata": {},
   "outputs": [],
   "source": [
    "sp_orb=3.5\n",
    "q_orb=1.2\n",
    "alpha_orb=0.4\n",
    "r_porb=.5\n",
    "alpha_rorb=.3\n",
    "\n",
    "origin=[sp_orb,q_orb, alpha_orb, r_porb,alpha_rorb]"
   ]
  },
  {
   "cell_type": "code",
   "execution_count": 254,
   "metadata": {},
   "outputs": [
    {
     "data": {
      "text/html": [
       "<table>\n",
       "    <tr>\n",
       "        <td colspan=\"2\" style=\"text-align:left\" title=\"Minimum value of function\"> FCN = 9.519e+05 </td>\n",
       "        <td colspan=\"3\" style=\"text-align:center\" title=\"No. of function evaluations in last call and total number\"> Nfcn = 267 </td>\n",
       "    </tr>\n",
       "    <tr>\n",
       "        <td colspan=\"2\" style=\"text-align:left\" title=\"Estimated distance to minimum and goal\"> EDM = 3.25e-06 (Goal: 0.0001) </td>\n",
       "        <td colspan=\"3\" style=\"text-align:center\" title=\"No. of gradient evaluations in last call and total number\">  </td>\n",
       "    </tr>\n",
       "    <tr>\n",
       "        <td style=\"text-align:center;background-color:#92CCA6;color:black\"> Valid Minimum </td>\n",
       "        <td style=\"text-align:center;background-color:#92CCA6;color:black\"> Valid Parameters </td>\n",
       "        <td colspan=\"3\" style=\"text-align:center;background-color:#92CCA6;color:black\"> No Parameters at limit </td>\n",
       "    </tr>\n",
       "    <tr>\n",
       "        <td colspan=\"2\" style=\"text-align:center;background-color:#92CCA6;color:black\"> Below EDM threshold (goal x 10) </td>\n",
       "        <td colspan=\"3\" style=\"text-align:center;background-color:#92CCA6;color:black\"> Below call limit </td>\n",
       "    </tr>\n",
       "    <tr>\n",
       "        <td style=\"text-align:center;background-color:#92CCA6;color:black\"> Covariance </td>\n",
       "        <td style=\"text-align:center;background-color:#92CCA6;color:black\"> Hesse ok </td>\n",
       "        <td style=\"text-align:center;background-color:#92CCA6;color:black\" title=\"Is covariance matrix accurate?\"> Accurate </td>\n",
       "        <td style=\"text-align:center;background-color:#92CCA6;color:black\" title=\"Is covariance matrix positive definite?\"> Pos. def. </td>\n",
       "        <td style=\"text-align:center;background-color:#92CCA6;color:black\" title=\"Was positive definiteness enforced by Minuit?\"> Not forced </td>\n",
       "    </tr>\n",
       "</table><table>\n",
       "    <tr>\n",
       "        <td></td>\n",
       "        <th title=\"Variable name\"> Name </th>\n",
       "        <th title=\"Value of parameter\"> Value </th>\n",
       "        <th title=\"Hesse error\"> Hesse Error </th>\n",
       "        <th title=\"Minos lower error\"> Minos Error- </th>\n",
       "        <th title=\"Minos upper error\"> Minos Error+ </th>\n",
       "        <th title=\"Lower limit of the parameter\"> Limit- </th>\n",
       "        <th title=\"Upper limit of the parameter\"> Limit+ </th>\n",
       "        <th title=\"Is the parameter fixed in the fit\"> Fixed </th>\n",
       "    </tr>\n",
       "    <tr>\n",
       "        <th> 0 </th>\n",
       "        <td> s_porb </td>\n",
       "        <td> 4.202 </td>\n",
       "        <td> 0.012 </td>\n",
       "        <td>  </td>\n",
       "        <td>  </td>\n",
       "        <td> 2 </td>\n",
       "        <td> 10 </td>\n",
       "        <td>  </td>\n",
       "    </tr>\n",
       "    <tr>\n",
       "        <th> 1 </th>\n",
       "        <td> q_orb </td>\n",
       "        <td> 1.341 </td>\n",
       "        <td> 0.024 </td>\n",
       "        <td>  </td>\n",
       "        <td>  </td>\n",
       "        <td> 1E-08 </td>\n",
       "        <td> 5 </td>\n",
       "        <td>  </td>\n",
       "    </tr>\n",
       "    <tr>\n",
       "        <th> 2 </th>\n",
       "        <td> alpha_orb </td>\n",
       "        <td> 0.166 </td>\n",
       "        <td> 0.006 </td>\n",
       "        <td>  </td>\n",
       "        <td>  </td>\n",
       "        <td> 1E-08 </td>\n",
       "        <td> 2 </td>\n",
       "        <td>  </td>\n",
       "    </tr>\n",
       "    <tr>\n",
       "        <th> 3 </th>\n",
       "        <td> r_porb </td>\n",
       "        <td> 0.232 </td>\n",
       "        <td> 0.004 </td>\n",
       "        <td>  </td>\n",
       "        <td>  </td>\n",
       "        <td> 1E-08 </td>\n",
       "        <td> 1 </td>\n",
       "        <td>  </td>\n",
       "    </tr>\n",
       "    <tr>\n",
       "        <th> 4 </th>\n",
       "        <td> alpha_rorb </td>\n",
       "        <td> 0.920 </td>\n",
       "        <td> 0.023 </td>\n",
       "        <td>  </td>\n",
       "        <td>  </td>\n",
       "        <td> 1E-08 </td>\n",
       "        <td> 2 </td>\n",
       "        <td>  </td>\n",
       "    </tr>\n",
       "</table><table>\n",
       "    <tr>\n",
       "        <td></td>\n",
       "        <th> s_porb </th>\n",
       "        <th> q_orb </th>\n",
       "        <th> alpha_orb </th>\n",
       "        <th> r_porb </th>\n",
       "        <th> alpha_rorb </th>\n",
       "    </tr>\n",
       "    <tr>\n",
       "        <th> s_porb </th>\n",
       "        <td> 0.000138 </td>\n",
       "        <td style=\"background-color:rgb(250,241,241);color:black\"> 1.6e-05 <strong>(0.057)</strong> </td>\n",
       "        <td style=\"background-color:rgb(250,208,208);color:black\"> 2.11e-05 <strong>(0.277)</strong> </td>\n",
       "        <td style=\"background-color:rgb(168,168,250);color:black\"> -2.79e-05 <strong>(-0.632)</strong> </td>\n",
       "        <td style=\"background-color:rgb(218,218,250);color:black\"> -6.65e-05 <strong>(-0.249)</strong> </td>\n",
       "    </tr>\n",
       "    <tr>\n",
       "        <th> q_orb </th>\n",
       "        <td style=\"background-color:rgb(250,241,241);color:black\"> 1.6e-05 <strong>(0.057)</strong> </td>\n",
       "        <td> 0.000564 </td>\n",
       "        <td style=\"background-color:rgb(225,225,250);color:black\"> -3e-05 <strong>(-0.195)</strong> </td>\n",
       "        <td style=\"background-color:rgb(154,154,250);color:black\"> -6.55e-05 <strong>(-0.736)</strong> </td>\n",
       "        <td style=\"background-color:rgb(248,248,250);color:black\"> -9.81e-06 <strong>(-0.018)</strong> </td>\n",
       "    </tr>\n",
       "    <tr>\n",
       "        <th> alpha_orb </th>\n",
       "        <td style=\"background-color:rgb(250,208,208);color:black\"> 2.11e-05 <strong>(0.277)</strong> </td>\n",
       "        <td style=\"background-color:rgb(225,225,250);color:black\"> -3e-05 <strong>(-0.195)</strong> </td>\n",
       "        <td> 4.2e-05 </td>\n",
       "        <td style=\"background-color:rgb(249,249,250);color:black\"> -1.73e-07 <strong>(-0.007)</strong> </td>\n",
       "        <td style=\"background-color:rgb(132,132,250);color:black\"> -0.000133 <strong>(-0.904)</strong> </td>\n",
       "    </tr>\n",
       "    <tr>\n",
       "        <th> r_porb </th>\n",
       "        <td style=\"background-color:rgb(168,168,250);color:black\"> -2.79e-05 <strong>(-0.632)</strong> </td>\n",
       "        <td style=\"background-color:rgb(154,154,250);color:black\"> -6.55e-05 <strong>(-0.736)</strong> </td>\n",
       "        <td style=\"background-color:rgb(249,249,250);color:black\"> -1.73e-07 <strong>(-0.007)</strong> </td>\n",
       "        <td> 1.41e-05 </td>\n",
       "        <td style=\"background-color:rgb(250,236,236);color:black\"> 7.76e-06 <strong>(0.091)</strong> </td>\n",
       "    </tr>\n",
       "    <tr>\n",
       "        <th> alpha_rorb </th>\n",
       "        <td style=\"background-color:rgb(218,218,250);color:black\"> -6.65e-05 <strong>(-0.249)</strong> </td>\n",
       "        <td style=\"background-color:rgb(248,248,250);color:black\"> -9.81e-06 <strong>(-0.018)</strong> </td>\n",
       "        <td style=\"background-color:rgb(132,132,250);color:black\"> -0.000133 <strong>(-0.904)</strong> </td>\n",
       "        <td style=\"background-color:rgb(250,236,236);color:black\"> 7.76e-06 <strong>(0.091)</strong> </td>\n",
       "        <td> 0.000518 </td>\n",
       "    </tr>\n",
       "</table>"
      ],
      "text/plain": [
       "┌──────────────────────────────────┬──────────────────────────────────────┐\n",
       "│ FCN = 9.519e+05                  │              Nfcn = 267              │\n",
       "│ EDM = 3.25e-06 (Goal: 0.0001)    │                                      │\n",
       "├───────────────┬──────────────────┼──────────────────────────────────────┤\n",
       "│ Valid Minimum │ Valid Parameters │        No Parameters at limit        │\n",
       "├───────────────┴──────────────────┼──────────────────────────────────────┤\n",
       "│ Below EDM threshold (goal x 10)  │           Below call limit           │\n",
       "├───────────────┬──────────────────┼───────────┬─────────────┬────────────┤\n",
       "│  Covariance   │     Hesse ok     │ Accurate  │  Pos. def.  │ Not forced │\n",
       "└───────────────┴──────────────────┴───────────┴─────────────┴────────────┘\n",
       "┌───┬────────────┬───────────┬───────────┬────────────┬────────────┬─────────┬─────────┬───────┐\n",
       "│   │ Name       │   Value   │ Hesse Err │ Minos Err- │ Minos Err+ │ Limit-  │ Limit+  │ Fixed │\n",
       "├───┼────────────┼───────────┼───────────┼────────────┼────────────┼─────────┼─────────┼───────┤\n",
       "│ 0 │ s_porb     │   4.202   │   0.012   │            │            │    2    │   10    │       │\n",
       "│ 1 │ q_orb      │   1.341   │   0.024   │            │            │  1e-08  │    5    │       │\n",
       "│ 2 │ alpha_orb  │   0.166   │   0.006   │            │            │  1e-08  │    2    │       │\n",
       "│ 3 │ r_porb     │   0.232   │   0.004   │            │            │  1e-08  │    1    │       │\n",
       "│ 4 │ alpha_rorb │   0.920   │   0.023   │            │            │  1e-08  │    2    │       │\n",
       "└───┴────────────┴───────────┴───────────┴────────────┴────────────┴─────────┴─────────┴───────┘\n",
       "┌────────────┬────────────────────────────────────────────────────────┐\n",
       "│            │     s_porb      q_orb  alpha_orb     r_porb alpha_rorb │\n",
       "├────────────┼────────────────────────────────────────────────────────┤\n",
       "│     s_porb │   0.000138    1.6e-05   2.11e-05  -2.79e-05  -6.65e-05 │\n",
       "│      q_orb │    1.6e-05   0.000564     -3e-05  -6.55e-05  -9.81e-06 │\n",
       "│  alpha_orb │   2.11e-05     -3e-05    4.2e-05  -1.73e-07  -0.000133 │\n",
       "│     r_porb │  -2.79e-05  -6.55e-05  -1.73e-07   1.41e-05   7.76e-06 │\n",
       "│ alpha_rorb │  -6.65e-05  -9.81e-06  -0.000133   7.76e-06   0.000518 │\n",
       "└────────────┴────────────────────────────────────────────────────────┘"
      ]
     },
     "execution_count": 254,
     "metadata": {},
     "output_type": "execute_result"
    }
   ],
   "source": [
    "mymin=np.array([2,1e-8,1e-8,1e-8,1e-8])\n",
    "mymax=np.array([10,5,2,1,2])\n",
    "\n",
    "orbit=df2[(df2.tag == 0) & (df2.d2d>0.2)]\n",
    "\n",
    "v=orbit.v/100\n",
    "r=orbit.d2d*orbit.hostr\n",
    "rich=orbit.hostm/1e14\n",
    "#rich=orbit.rich_red_sp\n",
    "\n",
    "labels=['s_porb','q_orb', 'alpha_orb', 'r_porb','alpha_rorb']\n",
    "bnds=[(x,y) for x, y in zip(mymin, mymax)]\n",
    "\n",
    "\n",
    "nlnlikeorb.errordef=0.5\n",
    "q = Minuit(nlnlikeorb, origin,name=labels)\n",
    "q.limits = bnds\n",
    "q.migrad()"
   ]
  },
  {
   "cell_type": "code",
   "execution_count": 255,
   "metadata": {},
   "outputs": [],
   "source": [
    "orbradial_bins=np.linspace(0.3,3,30)\n",
    "rbin_centers = (orbradial_bins[:-1] + orbradial_bins[1:])/2.\n",
    "width=orbradial_bins[1]-orbradial_bins[0]\n",
    "count=0"
   ]
  },
  {
   "cell_type": "code",
   "execution_count": 256,
   "metadata": {},
   "outputs": [
    {
     "data": {
      "application/vnd.jupyter.widget-view+json": {
       "model_id": "3858858e12e742ccad0864e06002efe4",
       "version_major": 2,
       "version_minor": 0
      },
      "text/plain": [
       "  0%|          | 0/30 [00:00<?, ?it/s]"
      ]
     },
     "metadata": {},
     "output_type": "display_data"
    }
   ],
   "source": [
    "orbmean=[]\n",
    "orbstd=[]\n",
    "#parameters=origin\n",
    "#parameters=mcmc_initial\n",
    "parameters=np.array(q.values)\n",
    "num_resample=50\n",
    "\n",
    "for i in tqdm(range(len(orbradial_bins))):\n",
    "\n",
    "    sp_orb,q_orb, alpha_orb, r_porb,alpha_rorb=parameters\n",
    "    \n",
    "    v=orbit.v/100\n",
    "    r=orbit.d2d*orbit.hostr\n",
    "    rich=orbit.hostm/1e14\n",
    "    #rich=orbit.rich_red_sp\n",
    "    lambda_p = np.median(rich)\n",
    "    \n",
    "    minr=orbradial_bins[i]-width\n",
    "    maxr=orbradial_bins[i]+width\n",
    "    \n",
    "    dfcut=orbit[ (orbit.d2d>minr) & (orbit.d2d<=maxr) ].copy()\n",
    "    dfcut=dfcut.reset_index()\n",
    "    if (len(dfcut)!=0):\n",
    "    \n",
    "        v=dfcut.v/100\n",
    "        r=dfcut.d2d*dfcut.hostr\n",
    "        rich=dfcut.hostm/1e14\n",
    "        #rich=dfcut.rich_red_sp\n",
    "\n",
    "        orb_v = []\n",
    "\n",
    "        for i in (range(num_resample)):\n",
    "            r_orb = r_porb*(rich/lambda_p)**alpha_rorb\n",
    "            orb_sigmav_lam = sp_orb*(rich/lambda_p)**alpha_orb\n",
    "            orb_sigmav = orb_sigmav_lam*(q_orb*np.exp(-(r/r_orb))+1)\n",
    "            orb_v = np.append(orb_v,orb_sigmav/dfcut.vcirc*100)\n",
    "        \n",
    "        orbmean=np.append(orbmean,np.mean(orb_v))\n",
    "        orbstd=np.append(orbstd,np.std(orb_v))"
   ]
  },
  {
   "cell_type": "code",
   "execution_count": 257,
   "metadata": {},
   "outputs": [],
   "source": [
    "def llnorm(sigma):\n",
    "    global dfcut\n",
    "    data=dfcut.v/dfcut.vcirc\n",
    "    ll = np.sum(math.log(2*math.pi*(sigma**2))/2 + ((data)**2)/(2 * (sigma**2)))\n",
    "\n",
    "    \n",
    "    return ll"
   ]
  },
  {
   "cell_type": "code",
   "execution_count": 290,
   "metadata": {},
   "outputs": [],
   "source": [
    "def llnorm2(sigma):\n",
    "    global dfcut\n",
    "    data=dfcut.v/dfcut.vcirc\n",
    "    inf_dist = 1/2.0/sigma/np.cosh(np.pi/2.0*data/sigma)\n",
    "        \n",
    "    return -np.sum(np.log(inf_dist))"
   ]
  },
  {
   "cell_type": "code",
   "execution_count": 305,
   "metadata": {},
   "outputs": [
    {
     "data": {
      "application/vnd.jupyter.widget-view+json": {
       "model_id": "3c0214d7d569447fa211eb3ef64e4074",
       "version_major": 2,
       "version_minor": 0
      },
      "text/plain": [
       "  0%|          | 0/24 [00:00<?, ?it/s]"
      ]
     },
     "metadata": {},
     "output_type": "display_data"
    },
    {
     "name": "stdout",
     "output_type": "stream",
     "text": [
      "0.7103758299145152 0.7103933461073926\n",
      "0.6573134942699219 0.6573095325689342\n",
      "0.6063806411839735 0.6063729551810398\n",
      "0.5641045920426206 0.5640808919539693\n",
      "0.5294244468226433 0.5294373772084371\n",
      "0.5017123316486815 0.501700095101467\n",
      "0.4816973353142979 0.481685537592705\n",
      "0.48039411181505265 0.48038121174199067\n",
      "0.49138922650616984 0.49137341872104184\n",
      "0.4979728858083138 0.49798373574875493\n",
      "0.5106642448421975 0.5106688820457477\n",
      "0.5250177778595613 0.5250437485742727\n",
      "0.5362732233411402 0.5363132787635613\n",
      "0.5455054941028212 0.5454965739502478\n",
      "0.5465418110382303 0.5465123887827373\n",
      "0.5372861103898471 0.5372524800611505\n",
      "0.537318993281915 0.537274905890882\n",
      "0.5450459092772854 0.5450799155968338\n",
      "0.544648445604086 0.544667614848629\n",
      "0.5395911271289742 0.5397096274577442\n",
      "0.5564255023181451 0.5563818275210038\n",
      "0.5617173425298394 0.56181447208909\n",
      "0.5338212010118913 0.5338091152082275\n",
      "0.5411067693821967 0.541274197273807\n"
     ]
    }
   ],
   "source": [
    "N=25\n",
    "\n",
    "intervals=np.linspace(0.3,3.0,N)\n",
    "orbcenter=(intervals[:-1]+intervals[1:])/2\n",
    "width=intervals[1]-intervals[0]\n",
    "sigma_orb=[]\n",
    "sigma_orb2=[]\n",
    "orb_error=[]\n",
    "\n",
    "orborigin=0.45\n",
    "for plt_idx in tqdm(range(0,len(intervals)-1)):\n",
    "    minr=intervals[plt_idx]-width\n",
    "    maxr=intervals[plt_idx]+width\n",
    "    \n",
    "    dfcut=orbit[ (orbit.d2d>minr) & (orbit.d2d<=maxr)].copy()\n",
    "    dfcut=dfcut.reset_index()\n",
    "    v=dfcut.v/dfcut.vcirc\n",
    "\n",
    "    #Try eliminating outliers first\n",
    "    #std=np.std(v)\n",
    "    #dfcut=dfcut[np.abs(dfcut.v/dfcut.vcirc)<2*std]\n",
    "\n",
    "    llnorm2.errordef=0.5\n",
    "    n = Minuit(llnorm2, [orborigin])\n",
    "    n.migrad()\n",
    "    orborigin=np.array(n.values)[0]\n",
    "    print(np.array(n.values)[0],hypsecant.fit(dfcut.v/dfcut.vcirc,floc=0)[1]*np.pi/2)\n",
    "    \n",
    "    sigma_orb=np.append(sigma_orb,hypsecant.fit(dfcut.v/dfcut.vcirc,floc=0)[1]*np.pi/2)\n",
    "    orb_error=np.append(orb_error,np.array(n.errors)[0])"
   ]
  },
  {
   "cell_type": "code",
   "execution_count": 301,
   "metadata": {},
   "outputs": [
    {
     "data": {
      "text/plain": [
       "array([0.71039335, 0.65730953, 0.60637296, 0.56408089, 0.52943738,\n",
       "       0.5017001 , 0.48168554, 0.48038121, 0.49137342, 0.49798374,\n",
       "       0.51066888, 0.52504375, 0.53631328, 0.54549657, 0.54651239,\n",
       "       0.53725248, 0.53727491, 0.54507992, 0.54466761, 0.53970963,\n",
       "       0.55638183, 0.56181447, 0.53380912, 0.5412742 ])"
      ]
     },
     "execution_count": 301,
     "metadata": {},
     "output_type": "execute_result"
    }
   ],
   "source": [
    "sigma_orb"
   ]
  },
  {
   "cell_type": "code",
   "execution_count": 302,
   "metadata": {},
   "outputs": [
    {
     "data": {
      "text/plain": [
       "Text(0, 0.5, 'Velocity variance/v_circ')"
      ]
     },
     "execution_count": 302,
     "metadata": {},
     "output_type": "execute_result"
    },
    {
     "data": {
      "image/png": "[encoded data removed]",
      "text/plain": [
       "<Figure size 720x576 with 1 Axes>"
      ]
     },
     "metadata": {
      "needs_background": "light"
     },
     "output_type": "display_data"
    }
   ],
   "source": [
    "fig,(ax1) = plt.subplots(1, 1,figsize=(10,8))\n",
    "ax1.errorbar(orbcenter, sigma_orb, yerr=orb_error, fmt='o',markersize=4)\n",
    "#ax1.plot(orbradial_bins[:len(orbmean)],orbmean, label='orbiting')\n",
    "\n",
    "#ax1.plot(center,sigma_bg)\n",
    "ax1.set_xlabel('R/R200m')\n",
    "ax1.set_ylabel('Velocity variance/v_circ')"
   ]
  },
  {
   "cell_type": "code",
   "execution_count": null,
   "metadata": {},
   "outputs": [],
   "source": []
  },
  {
   "cell_type": "code",
   "execution_count": 231,
   "metadata": {},
   "outputs": [],
   "source": [
    "SMALL_SIZE = 16\n",
    "MEDIUM_SIZE = 36\n",
    "BIGGER_SIZE = 70\n",
    "\n",
    "plt.rc('font', size=MEDIUM_SIZE)          # controls default text sizes\n",
    "plt.rc('axes', titlesize=BIGGER_SIZE)     # fontsize of the axes title\n",
    "plt.rc('axes', labelsize=SMALL_SIZE)    # fontsize of the x and y labels\n",
    "plt.rc('xtick', labelsize=SMALL_SIZE)    # fontsize of the tick labels\n",
    "plt.rc('ytick', labelsize=SMALL_SIZE)    # fontsize of the tick labels\n",
    "plt.rc('legend', fontsize=SMALL_SIZE)    # legend fontsize\n",
    "plt.rc('figure', titlesize=BIGGER_SIZE)  # fontsize of the figure title"
   ]
  },
  {
   "cell_type": "code",
   "execution_count": 312,
   "metadata": {},
   "outputs": [
    {
     "data": {
      "text/plain": [
       "Text(0.5, 0, '$R/R_{200m}$')"
      ]
     },
     "execution_count": 312,
     "metadata": {},
     "output_type": "execute_result"
    },
    {
     "data": {
      "image/png": "[encoded data removed]",
      "text/plain": [
       "<Figure size 1080x1080 with 8 Axes>"
      ]
     },
     "metadata": {
      "needs_background": "light"
     },
     "output_type": "display_data"
    }
   ],
   "source": [
    "fig,[(ax1,ax2),(ax3,ax4)] = plt.subplots(2, 2,figsize=(15,15))\n",
    "k=1\n",
    "\n",
    "num_data_bin_edges = 100\n",
    "num_sim_bin_edges = 2501\n",
    "min_x = -3\n",
    "max_x = 3\n",
    "vv=np.linspace(-3,3,251)\n",
    "\n",
    "data_x_vals = np.linspace(min_x, max_x, num_data_bin_edges)\n",
    "data_bin_centers = (data_x_vals[:-1] + data_x_vals[1:])/2.\n",
    "data_bin_width = data_bin_centers[1] - data_bin_centers[0]\n",
    "\n",
    "minr=0.2\n",
    "maxr=0.4\n",
    "\n",
    "dfcut=orbit[ (orbit.d2d>minr) & (orbit.d2d <=maxr) ].copy()\n",
    "dfcut=dfcut.reset_index()\n",
    "\n",
    "v=dfcut.v/dfcut.vcirc\n",
    "\n",
    "counts, bin_edges = np.histogram(v, data_x_vals)\n",
    "hypsecantalized_counts = counts / len(v) / data_bin_width\n",
    "\n",
    "#k=0.7\n",
    "ax1.scatter(data_bin_centers, hypsecantalized_counts*k)\n",
    "myscale=hypsecant.fit(v, floc=0)[1]\n",
    "tdist=hypsecant.pdf(vv, loc=0, scale=myscale)\n",
    "ax1.plot(vv,tdist*k,'--', label='0.1<R/$R_{edge}$<0.11')\n",
    "#ax1.set_ylim([0,0.55])\n",
    "ax1.set_yscale('linear')\n",
    "\n",
    "inset_ax = inset_axes(ax1,\n",
    "                  height=\"30%\", # set height\n",
    "                  width=\"30%\", # and width\n",
    "                  loc='upper right')\n",
    "inset_ax.axvspan(minr, maxr, alpha=0.5, color='red')\n",
    "inset_ax.set_xlim(0,2.5)\n",
    "inset_ax.set_yticks([])\n",
    "inset_ax.set_xlabel('$R/R_{200m}$') \n",
    "\n",
    "minr=1.1\n",
    "maxr=1.3\n",
    "\n",
    "dfcut=orbit[ (orbit.d2d>minr) & (orbit.d2d <=maxr) ].copy()\n",
    "dfcut=dfcut.reset_index()\n",
    "\n",
    "v=dfcut.v/dfcut.vcirc\n",
    "\n",
    "counts, bin_edges = np.histogram(v, data_x_vals)\n",
    "hypsecantalized_counts = counts / len(v) / data_bin_width\n",
    "\n",
    "#k=0.4\n",
    "ax2.scatter(data_bin_centers, hypsecantalized_counts*k)\n",
    "myscale=hypsecant.fit(v, floc=0)[1]\n",
    "tdist=hypsecant.pdf(vv, loc=0, scale=myscale)\n",
    "ax2.plot(vv,tdist*k,'--', label='0.1<R/$R_{edge}$<0.11')\n",
    "#ax2.set_ylim([0,0.55])\n",
    "ax2.set_yscale('linear')\n",
    "\n",
    "inset_ax = inset_axes(ax2,\n",
    "                  height=\"30%\", # set height\n",
    "                  width=\"30%\", # and width\n",
    "                  loc='upper right')\n",
    "inset_ax.axvspan(minr, maxr, alpha=0.5, color='red')\n",
    "inset_ax.set_xlim(0,2.5)\n",
    "inset_ax.set_yticks([])\n",
    "inset_ax.set_xlabel('$R/R_{200m}$') \n",
    "\n",
    "minr=1.6\n",
    "maxr=1.8\n",
    "\n",
    "dfcut=orbit[ (orbit.d2d>minr) & (orbit.d2d <=maxr) ].copy()\n",
    "dfcut=dfcut.reset_index()\n",
    "\n",
    "v=dfcut.v/dfcut.vcirc\n",
    "\n",
    "counts, bin_edges = np.histogram(v, data_x_vals)\n",
    "hypsecantalized_counts = counts / len(v) / data_bin_width\n",
    "\n",
    "ax3.scatter(data_bin_centers, hypsecantalized_counts*k)\n",
    "myscale=hypsecant.fit(v, floc=0)[1]\n",
    "tdist=hypsecant.pdf(vv, loc=0, scale=myscale)\n",
    "ax3.plot(vv,tdist*k,'--', label='0.1<R/$R_{edge}$<0.11')\n",
    "#ax3.set_ylim([0,0.55])\n",
    "ax3.set_xlabel('$v/v_c$')\n",
    "ax3.set_yscale('linear')\n",
    "\n",
    "\n",
    "inset_ax = inset_axes(ax3,\n",
    "                  height=\"30%\", # set height\n",
    "                  width=\"30%\", # and width\n",
    "                  loc='upper right')\n",
    "inset_ax.axvspan(minr, maxr, alpha=0.5, color='red')\n",
    "inset_ax.set_xlim(0,2.5)\n",
    "inset_ax.set_yticks([])\n",
    "inset_ax.set_xlabel('$R/R_{200m}$') \n",
    "\n",
    "minr=2.0\n",
    "maxr=2.2\n",
    "\n",
    "dfcut=orbit[ (orbit.d2d>minr) & (orbit.d2d <=maxr) ].copy()\n",
    "dfcut=dfcut.reset_index()\n",
    "\n",
    "v=dfcut.v/dfcut.vcirc\n",
    "\n",
    "counts, bin_edges = np.histogram(v, data_x_vals)\n",
    "hypsecantalized_counts = counts / len(v) / data_bin_width\n",
    "\n",
    "#k=0.01\n",
    "ax4.scatter(data_bin_centers, hypsecantalized_counts*k)\n",
    "myscale=hypsecant.fit(v, floc=0)[1]\n",
    "tdist=hypsecant.pdf(vv, loc=0, scale=myscale)\n",
    "ax4.plot(vv,tdist*k,'--')\n",
    "#ax4.set_ylim([0,0.55])\n",
    "ax4.set_xlabel('$v/v_c$')\n",
    "#ax4.set_xscale('linear')\n",
    "ax4.set_yscale('linear')\n",
    "\n",
    "inset_ax = inset_axes(ax4,\n",
    "                  height=\"30%\", # set height\n",
    "                  width=\"30%\", # and width\n",
    "                  loc='upper right')\n",
    "inset_ax.axvspan(minr, maxr, alpha=0.5, color='red')\n",
    "inset_ax.set_xlim(0,2.5)\n",
    "inset_ax.set_yticks([])\n",
    "inset_ax.set_xlabel('$R/R_{200m}$')  \n",
    "    \n",
    "#Note for tomorrow: make plot method and sigma loop work without redge params"
   ]
  },
  {
   "cell_type": "code",
   "execution_count": 250,
   "metadata": {},
   "outputs": [
    {
     "data": {
      "text/plain": [
       "(-4.0, 4.0)"
      ]
     },
     "execution_count": 250,
     "metadata": {},
     "output_type": "execute_result"
    },
    {
     "data": {
      "image/png": "[encoded data removed]",
      "text/plain": [
       "<Figure size 1080x1080 with 1 Axes>"
      ]
     },
     "metadata": {
      "needs_background": "light"
     },
     "output_type": "display_data"
    }
   ],
   "source": [
    "fig,ax1 = plt.subplots(1,1,figsize=(15,15))\n",
    "vv=np.linspace(-4,4,500)\n",
    "k=0.12\n",
    "tdist=norm.pdf(vv, loc=0, scale=0.35)\n",
    "ax1.plot(vv,tdist*k,'-')\n",
    "ax1.set_ylim([0,0.55])\n",
    "ax1.set_xlim([-4,4])"
   ]
  },
  {
   "cell_type": "code",
   "execution_count": 679,
   "metadata": {},
   "outputs": [],
   "source": [
    "def lnlikeorb(parameters):\n",
    "    return -nlnlikeorb(parameters)"
   ]
  },
  {
   "cell_type": "code",
   "execution_count": 688,
   "metadata": {},
   "outputs": [],
   "source": [
    "orbit=df2[(df2.tag == 0) & (df2.d2d*df2.hostr>0.1)]\n",
    "#orbit=orbit.sample(len(orbit)//100).reset_index(drop=True)\n",
    "r=orbit.d2d*orbit.hostr\n",
    "r_lambda=(orbit.rich_red_sp / 100.0) ** 0.2\n",
    "r_edge=2.0*r_lambda\n",
    "orbit = orbit[r/r_edge<0.8]\n",
    "v=orbit.v/100\n",
    "r=orbit.d2d*orbit.hostr\n",
    "rich=orbit.hostm/1e14\n",
    "\n",
    "#Parameters that Paxton's mcmc is initialized with\n",
    "ndim, nwalkers = len(np.array(q.values)),40\n",
    "pos = [np.array(q.values) + np.random.normal(0,np.array(q.errors)) for i in range(nwalkers)]\n",
    "#Now I set up the sampler\n",
    "sampler = emcee.EnsembleSampler(nwalkers, ndim, lnlikeorb)"
   ]
  },
  {
   "cell_type": "code",
   "execution_count": 689,
   "metadata": {},
   "outputs": [
    {
     "name": "stderr",
     "output_type": "stream",
     "text": [
      "  0%|          | 51/20000 [00:59<5:23:34,  1.03it/s] /home/mr.bwolfe/.conda/envs/redmapper/lib/python3.8/site-packages/pandas/core/arraylike.py:358: RuntimeWarning: overflow encountered in exp\n",
      "  result = getattr(ufunc, method)(*inputs, **kwargs)\n",
      "100%|██████████| 20000/20000 [14:21:34<00:00,  2.58s/it]       \n"
     ]
    }
   ],
   "source": [
    "sampler.run_mcmc(pos, 20000,progress=True); #run a 1000 length chain starting at pos"
   ]
  },
  {
   "cell_type": "code",
   "execution_count": 690,
   "metadata": {},
   "outputs": [],
   "source": [
    "import corner"
   ]
  },
  {
   "cell_type": "code",
   "execution_count": 709,
   "metadata": {},
   "outputs": [
    {
     "name": "stderr",
     "output_type": "stream",
     "text": [
      "WARNING:root:Too few points to create valid contours\n",
      "WARNING:root:Too few points to create valid contours\n",
      "WARNING:root:Too few points to create valid contours\n"
     ]
    },
    {
     "data": {
      "image/png": "[encoded data removed]",
      "text/plain": [
       "<Figure size 849.6x849.6 with 25 Axes>"
      ]
     },
     "metadata": {
      "needs_background": "light"
     },
     "output_type": "display_data"
    }
   ],
   "source": [
    "samples = sampler.get_chain(discard=18000, thin=1, flat=False)\n",
    "samples = samples.reshape((-1, len(np.array(origin))))\n",
    "fig = corner.corner(samples, labels=labels)"
   ]
  },
  {
   "cell_type": "code",
   "execution_count": 327,
   "metadata": {},
   "outputs": [],
   "source": [
    "flat_samples = sampler.get_chain(discard=10000, flat=True)"
   ]
  },
  {
   "cell_type": "code",
   "execution_count": 328,
   "metadata": {},
   "outputs": [
    {
     "data": {
      "text/latex": [
       "$\\displaystyle \\mathrm{q_inf} = 11.362_{-8.4509}^{9.0443}$"
      ],
      "text/plain": [
       "<IPython.core.display.Math object>"
      ]
     },
     "metadata": {},
     "output_type": "display_data"
    },
    {
     "data": {
      "text/latex": [
       "$\\displaystyle \\mathrm{alpha_inf} = 0.196_{-0.0182}^{0.0177}$"
      ],
      "text/plain": [
       "<IPython.core.display.Math object>"
      ]
     },
     "metadata": {},
     "output_type": "display_data"
    },
    {
     "data": {
      "text/latex": [
       "$\\displaystyle \\mathrm{r_pinf} = 0.106_{-0.0851}^{0.1467}$"
      ],
      "text/plain": [
       "<IPython.core.display.Math object>"
      ]
     },
     "metadata": {},
     "output_type": "display_data"
    },
    {
     "data": {
      "text/latex": [
       "$\\displaystyle \\mathrm{alpha_rinf} = 0.669_{-0.4709}^{0.8998}$"
      ],
      "text/plain": [
       "<IPython.core.display.Math object>"
      ]
     },
     "metadata": {},
     "output_type": "display_data"
    },
    {
     "data": {
      "text/latex": [
       "$\\displaystyle \\mathrm{r_pedge} = 2.535_{-1.7346}^{1.7018}$"
      ],
      "text/plain": [
       "<IPython.core.display.Math object>"
      ]
     },
     "metadata": {},
     "output_type": "display_data"
    },
    {
     "data": {
      "text/latex": [
       "$\\displaystyle \\mathrm{alpha_redge} = 2.468_{-1.6487}^{1.6997}$"
      ],
      "text/plain": [
       "<IPython.core.display.Math object>"
      ]
     },
     "metadata": {},
     "output_type": "display_data"
    }
   ],
   "source": [
    "from IPython.display import display, Math\n",
    "\n",
    "mcmc_50=[]\n",
    "for i in range(ndim):\n",
    "    mcmc = np.percentile(flat_samples[:, i], [16, 50, 84])\n",
    "    q = np.diff(mcmc)\n",
    "    txt = \"\\mathrm{{{3}}} = {0:.3f}_{{-{1:.4f}}}^{{{2:.4f}}}\"\n",
    "    txt = txt.format(mcmc[1], q[0], q[1], labels[i])\n",
    "    mcmc_50=np.append(mcmc_50,mcmc[1])\n",
    "    display(Math(txt))"
   ]
  },
  {
   "cell_type": "code",
   "execution_count": 693,
   "metadata": {},
   "outputs": [],
   "source": [
    "#Getting the values that maximize likelihood\n",
    "flat_chain = np.concatenate(sampler.chain)\n",
    "flat_lnprobs = np.concatenate(sampler.lnprobability)\n",
    "max_prob_idx = np.argmax(flat_lnprobs)\n",
    "max_prob = flat_lnprobs[max_prob_idx]\n",
    "#p, lnsigma_p, alpha, beta = flat_chain[max_prob_idx]\n",
    "mcmc_initial=flat_chain[max_prob_idx]"
   ]
  },
  {
   "cell_type": "code",
   "execution_count": 124,
   "metadata": {},
   "outputs": [
    {
     "ename": "NameError",
     "evalue": "name 'mcmc_initial' is not defined",
     "output_type": "error",
     "traceback": [
      "\u001b[0;31m---------------------------------------------------------------------------\u001b[0m",
      "\u001b[0;31mNameError\u001b[0m                                 Traceback (most recent call last)",
      "\u001b[0;32m<ipython-input-124-bac84fade700>\u001b[0m in \u001b[0;36m<module>\u001b[0;34m\u001b[0m\n\u001b[0;32m----> 1\u001b[0;31m \u001b[0mmcmc_initial\u001b[0m\u001b[0;34m\u001b[0m\u001b[0;34m\u001b[0m\u001b[0m\n\u001b[0m",
      "\u001b[0;31mNameError\u001b[0m: name 'mcmc_initial' is not defined"
     ]
    }
   ],
   "source": [
    "mcmc_initial"
   ]
  },
  {
   "cell_type": "code",
   "execution_count": 710,
   "metadata": {},
   "outputs": [],
   "source": [
    "import pickle\n",
    "\n",
    "filehandler = open(\"orbmodel_20000chain.obj\",\"wb\")\n",
    "pickle.dump(sampler,filehandler)\n",
    "filehandler.close()"
   ]
  },
  {
   "cell_type": "code",
   "execution_count": 711,
   "metadata": {},
   "outputs": [],
   "source": [
    "flat_samples = sampler.get_chain(discard=0, thin=1, flat=True)\n",
    "np.save('orbmodel_flatsamples_20000.npy', flat_samples) "
   ]
  }
 ],
 "metadata": {
  "kernelspec": {
   "display_name": "redmapper",
   "language": "python",
   "name": "redmapper"
  },
  "language_info": {
   "codemirror_mode": {
    "name": "ipython",
    "version": 3
   },
   "file_extension": ".py",
   "mimetype": "text/x-python",
   "name": "python",
   "nbconvert_exporter": "python",
   "pygments_lexer": "ipython3",
   "version": "3.8.10"
  }
 },
 "nbformat": 4,
 "nbformat_minor": 4
}
