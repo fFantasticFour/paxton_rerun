{
 "cells": [
  {
   "cell_type": "code",
   "execution_count": 1,
   "metadata": {},
   "outputs": [],
   "source": [
    "import tables\n",
    "import pandas as pd\n",
    "import numpy as np\n",
    "import h5py\n",
    "from tqdm.notebook import tqdm\n",
    "from matplotlib import pyplot as plt\n",
    "from scipy import stats\n",
    "from iminuit import Minuit\n",
    "import math\n",
    "import scipy.optimize as optimize\n",
    "from mpl_toolkits.axes_grid1.inset_locator import inset_axes\n",
    "import emcee\n",
    "from scipy.constants import c\n",
    "from scipy.special import erf\n",
    "from scipy.stats import hypsecant\n",
    "from scipy.stats import norm\n",
    "from scipy.stats import laplace\n",
    "\n",
    "from scipy.integrate import quad\n",
    "\n",
    "from colossus.cosmology import cosmology\n",
    "from colossus.lss import peaks\n",
    "from colossus.halo import mass_so\n",
    "from colossus.halo import concentration\n",
    "from scipy import interpolate\n",
    "from intergrid.intergrid import Intergrid\n",
    "%load_ext cython"
   ]
  },
  {
   "cell_type": "code",
   "execution_count": 2,
   "metadata": {},
   "outputs": [
    {
     "data": {
      "application/vnd.jupyter.widget-view+json": {
       "model_id": "850fae44c11b4e9fa82782b82fcdd747",
       "version_major": 2,
       "version_minor": 0
      },
      "text/plain": [
       "  0%|          | 0/50 [00:00<?, ?it/s]"
      ]
     },
     "metadata": {},
     "output_type": "display_data"
    }
   ],
   "source": [
    "# new../\n",
    "# old ./\n",
    "for i in tqdm(range(50)):\n",
    "    filename='../Downloads/UM_2d-20220418T173722Z-001/UM_2d/new_mock_2d_'+str(i)+'.npy'\n",
    "    d = np.load(filename)\n",
    "    df=pd.DataFrame.from_records(d.tolist(), columns=d.dtype.names)\n",
    "    if i==0: df2=df\n",
    "    else: df2=df2.append(df)"
   ]
  },
  {
   "cell_type": "code",
   "execution_count": 3,
   "metadata": {
    "scrolled": true
   },
   "outputs": [
    {
     "data": {
      "text/html": [
       "<div>\n",
       "<style scoped>\n",
       "    .dataframe tbody tr th:only-of-type {\n",
       "        vertical-align: middle;\n",
       "    }\n",
       "\n",
       "    .dataframe tbody tr th {\n",
       "        vertical-align: top;\n",
       "    }\n",
       "\n",
       "    .dataframe thead th {\n",
       "        text-align: right;\n",
       "    }\n",
       "</style>\n",
       "<table border=\"1\" class=\"dataframe\">\n",
       "  <thead>\n",
       "    <tr style=\"text-align: right;\">\n",
       "      <th></th>\n",
       "      <th>id</th>\n",
       "      <th>upid</th>\n",
       "      <th>x</th>\n",
       "      <th>y</th>\n",
       "      <th>z</th>\n",
       "      <th>vz</th>\n",
       "      <th>sm</th>\n",
       "      <th>sfr</th>\n",
       "      <th>icl</th>\n",
       "      <th>mp</th>\n",
       "      <th>...</th>\n",
       "      <th>hostr</th>\n",
       "      <th>rich_red_sp</th>\n",
       "      <th>mar</th>\n",
       "      <th>Vol</th>\n",
       "      <th>n</th>\n",
       "      <th>ainf</th>\n",
       "      <th>vravg</th>\n",
       "      <th>bin3d</th>\n",
       "      <th>bin</th>\n",
       "      <th>tag</th>\n",
       "    </tr>\n",
       "  </thead>\n",
       "  <tbody>\n",
       "    <tr>\n",
       "      <th>0</th>\n",
       "      <td>10423006138</td>\n",
       "      <td>-1</td>\n",
       "      <td>4.031440</td>\n",
       "      <td>17.234131</td>\n",
       "      <td>91.366623</td>\n",
       "      <td>267.779999</td>\n",
       "      <td>1.265675e+12</td>\n",
       "      <td>1.576690</td>\n",
       "      <td>9.841825e+11</td>\n",
       "      <td>1.092859e+14</td>\n",
       "      <td>...</td>\n",
       "      <td>0.976222</td>\n",
       "      <td>31.0</td>\n",
       "      <td>0.287099</td>\n",
       "      <td>3.897041</td>\n",
       "      <td>1</td>\n",
       "      <td>0.3023</td>\n",
       "      <td>NaN</td>\n",
       "      <td>0</td>\n",
       "      <td>0</td>\n",
       "      <td>1</td>\n",
       "    </tr>\n",
       "    <tr>\n",
       "      <th>1</th>\n",
       "      <td>30000005231481032</td>\n",
       "      <td>10423006138</td>\n",
       "      <td>4.156453</td>\n",
       "      <td>16.853609</td>\n",
       "      <td>91.404953</td>\n",
       "      <td>-93.482491</td>\n",
       "      <td>7.514302e+10</td>\n",
       "      <td>0.072503</td>\n",
       "      <td>2.526506e+10</td>\n",
       "      <td>6.548751e+12</td>\n",
       "      <td>...</td>\n",
       "      <td>0.976222</td>\n",
       "      <td>31.0</td>\n",
       "      <td>0.287099</td>\n",
       "      <td>3.897041</td>\n",
       "      <td>1</td>\n",
       "      <td>0.0000</td>\n",
       "      <td>0.000000</td>\n",
       "      <td>6</td>\n",
       "      <td>6</td>\n",
       "      <td>0</td>\n",
       "    </tr>\n",
       "    <tr>\n",
       "      <th>2</th>\n",
       "      <td>32000004879831165</td>\n",
       "      <td>10423006138</td>\n",
       "      <td>3.719872</td>\n",
       "      <td>17.296618</td>\n",
       "      <td>91.075821</td>\n",
       "      <td>-586.436646</td>\n",
       "      <td>3.497926e+10</td>\n",
       "      <td>0.075920</td>\n",
       "      <td>5.277254e+08</td>\n",
       "      <td>1.145720e+12</td>\n",
       "      <td>...</td>\n",
       "      <td>0.976222</td>\n",
       "      <td>31.0</td>\n",
       "      <td>0.287099</td>\n",
       "      <td>3.897041</td>\n",
       "      <td>1</td>\n",
       "      <td>0.0000</td>\n",
       "      <td>0.000000</td>\n",
       "      <td>6</td>\n",
       "      <td>4</td>\n",
       "      <td>0</td>\n",
       "    </tr>\n",
       "    <tr>\n",
       "      <th>3</th>\n",
       "      <td>27000005764327304</td>\n",
       "      <td>10423006138</td>\n",
       "      <td>3.860375</td>\n",
       "      <td>17.180166</td>\n",
       "      <td>91.220757</td>\n",
       "      <td>-889.141663</td>\n",
       "      <td>6.465858e+10</td>\n",
       "      <td>0.107494</td>\n",
       "      <td>0.000000e+00</td>\n",
       "      <td>9.529140e+11</td>\n",
       "      <td>...</td>\n",
       "      <td>0.976222</td>\n",
       "      <td>31.0</td>\n",
       "      <td>0.287099</td>\n",
       "      <td>3.897041</td>\n",
       "      <td>1</td>\n",
       "      <td>0.0000</td>\n",
       "      <td>0.000000</td>\n",
       "      <td>3</td>\n",
       "      <td>2</td>\n",
       "      <td>0</td>\n",
       "    </tr>\n",
       "    <tr>\n",
       "      <th>4</th>\n",
       "      <td>16000007722938411</td>\n",
       "      <td>10423006138</td>\n",
       "      <td>3.409460</td>\n",
       "      <td>17.631683</td>\n",
       "      <td>91.215752</td>\n",
       "      <td>165.205124</td>\n",
       "      <td>5.195008e+10</td>\n",
       "      <td>0.110130</td>\n",
       "      <td>0.000000e+00</td>\n",
       "      <td>8.070051e+11</td>\n",
       "      <td>...</td>\n",
       "      <td>0.976222</td>\n",
       "      <td>31.0</td>\n",
       "      <td>0.287099</td>\n",
       "      <td>3.897041</td>\n",
       "      <td>1</td>\n",
       "      <td>0.0000</td>\n",
       "      <td>0.000000</td>\n",
       "      <td>11</td>\n",
       "      <td>11</td>\n",
       "      <td>0</td>\n",
       "    </tr>\n",
       "    <tr>\n",
       "      <th>...</th>\n",
       "      <td>...</td>\n",
       "      <td>...</td>\n",
       "      <td>...</td>\n",
       "      <td>...</td>\n",
       "      <td>...</td>\n",
       "      <td>...</td>\n",
       "      <td>...</td>\n",
       "      <td>...</td>\n",
       "      <td>...</td>\n",
       "      <td>...</td>\n",
       "      <td>...</td>\n",
       "      <td>...</td>\n",
       "      <td>...</td>\n",
       "      <td>...</td>\n",
       "      <td>...</td>\n",
       "      <td>...</td>\n",
       "      <td>...</td>\n",
       "      <td>...</td>\n",
       "      <td>...</td>\n",
       "      <td>...</td>\n",
       "      <td>...</td>\n",
       "    </tr>\n",
       "    <tr>\n",
       "      <th>5135423</th>\n",
       "      <td>10560991948</td>\n",
       "      <td>10560991969</td>\n",
       "      <td>992.138794</td>\n",
       "      <td>938.410095</td>\n",
       "      <td>920.661682</td>\n",
       "      <td>672.460022</td>\n",
       "      <td>4.058310e+10</td>\n",
       "      <td>4.102032</td>\n",
       "      <td>2.483552e+09</td>\n",
       "      <td>4.131869e+11</td>\n",
       "      <td>...</td>\n",
       "      <td>0.823926</td>\n",
       "      <td>36.0</td>\n",
       "      <td>1.449028</td>\n",
       "      <td>2.342897</td>\n",
       "      <td>19</td>\n",
       "      <td>0.3023</td>\n",
       "      <td>188.889977</td>\n",
       "      <td>17</td>\n",
       "      <td>12</td>\n",
       "      <td>0</td>\n",
       "    </tr>\n",
       "    <tr>\n",
       "      <th>5135424</th>\n",
       "      <td>10560991881</td>\n",
       "      <td>10560991969</td>\n",
       "      <td>993.139038</td>\n",
       "      <td>937.326721</td>\n",
       "      <td>920.917542</td>\n",
       "      <td>464.279999</td>\n",
       "      <td>3.443873e+10</td>\n",
       "      <td>0.027448</td>\n",
       "      <td>5.711738e+08</td>\n",
       "      <td>7.876229e+11</td>\n",
       "      <td>...</td>\n",
       "      <td>0.823926</td>\n",
       "      <td>36.0</td>\n",
       "      <td>1.449028</td>\n",
       "      <td>2.342897</td>\n",
       "      <td>19</td>\n",
       "      <td>0.3023</td>\n",
       "      <td>608.097782</td>\n",
       "      <td>17</td>\n",
       "      <td>16</td>\n",
       "      <td>0</td>\n",
       "    </tr>\n",
       "    <tr>\n",
       "      <th>5135425</th>\n",
       "      <td>10560991965</td>\n",
       "      <td>10560991969</td>\n",
       "      <td>991.583252</td>\n",
       "      <td>938.003296</td>\n",
       "      <td>921.428833</td>\n",
       "      <td>532.679993</td>\n",
       "      <td>1.037432e+10</td>\n",
       "      <td>0.003338</td>\n",
       "      <td>7.785041e+08</td>\n",
       "      <td>3.407543e+11</td>\n",
       "      <td>...</td>\n",
       "      <td>0.823926</td>\n",
       "      <td>36.0</td>\n",
       "      <td>1.449028</td>\n",
       "      <td>2.342897</td>\n",
       "      <td>19</td>\n",
       "      <td>0.3023</td>\n",
       "      <td>506.714590</td>\n",
       "      <td>14</td>\n",
       "      <td>14</td>\n",
       "      <td>0</td>\n",
       "    </tr>\n",
       "    <tr>\n",
       "      <th>5135426</th>\n",
       "      <td>10560992045</td>\n",
       "      <td>10560991969</td>\n",
       "      <td>992.953857</td>\n",
       "      <td>937.915161</td>\n",
       "      <td>921.393127</td>\n",
       "      <td>338.950012</td>\n",
       "      <td>9.276681e+09</td>\n",
       "      <td>0.033343</td>\n",
       "      <td>3.186511e+09</td>\n",
       "      <td>7.508916e+11</td>\n",
       "      <td>...</td>\n",
       "      <td>0.823926</td>\n",
       "      <td>36.0</td>\n",
       "      <td>1.449028</td>\n",
       "      <td>2.342897</td>\n",
       "      <td>19</td>\n",
       "      <td>0.3023</td>\n",
       "      <td>139.517160</td>\n",
       "      <td>11</td>\n",
       "      <td>11</td>\n",
       "      <td>0</td>\n",
       "    </tr>\n",
       "    <tr>\n",
       "      <th>5135427</th>\n",
       "      <td>10560999773</td>\n",
       "      <td>10560999774</td>\n",
       "      <td>990.548340</td>\n",
       "      <td>937.398010</td>\n",
       "      <td>968.654297</td>\n",
       "      <td>-67.580002</td>\n",
       "      <td>1.029309e+11</td>\n",
       "      <td>3.185475</td>\n",
       "      <td>3.221329e+08</td>\n",
       "      <td>5.723448e+11</td>\n",
       "      <td>...</td>\n",
       "      <td>0.823926</td>\n",
       "      <td>36.0</td>\n",
       "      <td>1.449028</td>\n",
       "      <td>2.342897</td>\n",
       "      <td>19</td>\n",
       "      <td>0.0000</td>\n",
       "      <td>0.000000</td>\n",
       "      <td>843</td>\n",
       "      <td>32</td>\n",
       "      <td>2</td>\n",
       "    </tr>\n",
       "  </tbody>\n",
       "</table>\n",
       "<p>5135428 rows × 30 columns</p>\n",
       "</div>"
      ],
      "text/plain": [
       "                        id         upid           x           y           z  \\\n",
       "0              10423006138           -1    4.031440   17.234131   91.366623   \n",
       "1        30000005231481032  10423006138    4.156453   16.853609   91.404953   \n",
       "2        32000004879831165  10423006138    3.719872   17.296618   91.075821   \n",
       "3        27000005764327304  10423006138    3.860375   17.180166   91.220757   \n",
       "4        16000007722938411  10423006138    3.409460   17.631683   91.215752   \n",
       "...                    ...          ...         ...         ...         ...   \n",
       "5135423        10560991948  10560991969  992.138794  938.410095  920.661682   \n",
       "5135424        10560991881  10560991969  993.139038  937.326721  920.917542   \n",
       "5135425        10560991965  10560991969  991.583252  938.003296  921.428833   \n",
       "5135426        10560992045  10560991969  992.953857  937.915161  921.393127   \n",
       "5135427        10560999773  10560999774  990.548340  937.398010  968.654297   \n",
       "\n",
       "                 vz            sm       sfr           icl            mp  ...  \\\n",
       "0        267.779999  1.265675e+12  1.576690  9.841825e+11  1.092859e+14  ...   \n",
       "1        -93.482491  7.514302e+10  0.072503  2.526506e+10  6.548751e+12  ...   \n",
       "2       -586.436646  3.497926e+10  0.075920  5.277254e+08  1.145720e+12  ...   \n",
       "3       -889.141663  6.465858e+10  0.107494  0.000000e+00  9.529140e+11  ...   \n",
       "4        165.205124  5.195008e+10  0.110130  0.000000e+00  8.070051e+11  ...   \n",
       "...             ...           ...       ...           ...           ...  ...   \n",
       "5135423  672.460022  4.058310e+10  4.102032  2.483552e+09  4.131869e+11  ...   \n",
       "5135424  464.279999  3.443873e+10  0.027448  5.711738e+08  7.876229e+11  ...   \n",
       "5135425  532.679993  1.037432e+10  0.003338  7.785041e+08  3.407543e+11  ...   \n",
       "5135426  338.950012  9.276681e+09  0.033343  3.186511e+09  7.508916e+11  ...   \n",
       "5135427  -67.580002  1.029309e+11  3.185475  3.221329e+08  5.723448e+11  ...   \n",
       "\n",
       "            hostr  rich_red_sp       mar       Vol   n    ainf       vravg  \\\n",
       "0        0.976222         31.0  0.287099  3.897041   1  0.3023         NaN   \n",
       "1        0.976222         31.0  0.287099  3.897041   1  0.0000    0.000000   \n",
       "2        0.976222         31.0  0.287099  3.897041   1  0.0000    0.000000   \n",
       "3        0.976222         31.0  0.287099  3.897041   1  0.0000    0.000000   \n",
       "4        0.976222         31.0  0.287099  3.897041   1  0.0000    0.000000   \n",
       "...           ...          ...       ...       ...  ..     ...         ...   \n",
       "5135423  0.823926         36.0  1.449028  2.342897  19  0.3023  188.889977   \n",
       "5135424  0.823926         36.0  1.449028  2.342897  19  0.3023  608.097782   \n",
       "5135425  0.823926         36.0  1.449028  2.342897  19  0.3023  506.714590   \n",
       "5135426  0.823926         36.0  1.449028  2.342897  19  0.3023  139.517160   \n",
       "5135427  0.823926         36.0  1.449028  2.342897  19  0.0000    0.000000   \n",
       "\n",
       "         bin3d  bin  tag  \n",
       "0            0    0    1  \n",
       "1            6    6    0  \n",
       "2            6    4    0  \n",
       "3            3    2    0  \n",
       "4           11   11    0  \n",
       "...        ...  ...  ...  \n",
       "5135423     17   12    0  \n",
       "5135424     17   16    0  \n",
       "5135425     14   14    0  \n",
       "5135426     11   11    0  \n",
       "5135427    843   32    2  \n",
       "\n",
       "[5135428 rows x 30 columns]"
      ]
     },
     "execution_count": 3,
     "metadata": {},
     "output_type": "execute_result"
    }
   ],
   "source": [
    "df2=df2.reset_index(drop=True)\n",
    "df2"
   ]
  },
  {
   "cell_type": "code",
   "execution_count": 4,
   "metadata": {},
   "outputs": [],
   "source": [
    "r_Mpc=df2.hostr*1e6 #Pc\n",
    "G = 4.3009e-3 #M_solar^-1 pc (km/s)^2"
   ]
  },
  {
   "cell_type": "code",
   "execution_count": 5,
   "metadata": {},
   "outputs": [],
   "source": [
    "df2['vcirc']=np.sqrt(G*df2.hostm/r_Mpc)"
   ]
  },
  {
   "cell_type": "code",
   "execution_count": 6,
   "metadata": {},
   "outputs": [],
   "source": [
    "df2['justr']=df2.d2d*df2.hostr\n",
    "df2['r_lambda']=(df2.rich_red_sp / 100.0) ** 0.2\n",
    "df2['r_edge']=2.0*df2.hostr"
   ]
  },
  {
   "cell_type": "code",
   "execution_count": 9,
   "metadata": {},
   "outputs": [],
   "source": [
    "N=50\n",
    "intervals=np.logspace(np.log10(.2),np.log10(2),N)\n",
    "center=(intervals[:-1]+intervals[1:])/2\n"
   ]
  },
  {
   "cell_type": "code",
   "execution_count": 10,
   "metadata": {},
   "outputs": [
    {
     "data": {
      "application/vnd.jupyter.widget-view+json": {
       "model_id": "ceca5c4165314b98aa44dd14361af7b8",
       "version_major": 2,
       "version_minor": 0
      },
      "text/plain": [
       "  0%|          | 0/49 [00:00<?, ?it/s]"
      ]
     },
     "metadata": {},
     "output_type": "display_data"
    }
   ],
   "source": [
    "Sigma_orb=[]\n",
    "Sigma_inf=[]\n",
    "Sigma_bg=[]\n",
    "Sigma_orb_e=[]\n",
    "Sigma_inf_e=[]\n",
    "Sigma_bg_e=[]\n",
    "\n",
    "for plt_idx in tqdm(range(0,len(intervals)-1)):\n",
    "    minr=intervals[plt_idx]\n",
    "    maxr=intervals[plt_idx+1]\n",
    "    \n",
    "    area=np.pi*(maxr**2-minr**2)\n",
    "    dfcut=df2[ (df2.justr/df2.r_edge>minr) & (df2.justr/df2.r_edge<=maxr) & (df2.tag==0)].copy()\n",
    "    dfcut=dfcut.reset_index()\n",
    "    \n",
    "    count=len(dfcut)\n",
    "    Sigma_orb=np.append(Sigma_orb,count/area)\n",
    "    Sigma_orb_e=np.append(Sigma_orb_e,np.sqrt(count)/area)\n",
    "\n",
    "    dfcut=df2[ (df2.justr/df2.r_edge>minr) & (df2.justr/df2.r_edge<=maxr) & (df2.tag==1)].copy()\n",
    "    dfcut=dfcut.reset_index()\n",
    "    \n",
    "    count=len(dfcut)\n",
    "    Sigma_inf=np.append(Sigma_inf,count/area)\n",
    "    Sigma_inf_e=np.append(Sigma_inf_e,np.sqrt(count)/area)\n",
    "\n",
    "    dfcut=df2[ (df2.justr/df2.r_edge>minr) & (df2.justr/df2.r_edge<=maxr) & (df2.tag==2)].copy()\n",
    "    dfcut=dfcut.reset_index()\n",
    "    \n",
    "    count=len(dfcut)\n",
    "    Sigma_bg=np.append(Sigma_bg,count/area)\n",
    "    Sigma_bg_e=np.append(Sigma_bg_e,np.sqrt(count)/area)"
   ]
  },
  {
   "cell_type": "code",
   "execution_count": 11,
   "metadata": {},
   "outputs": [],
   "source": [
    "from scipy.stats import linregress\n",
    "\n",
    "x = center\n",
    "y = np.log(Sigma_orb) \n",
    "\n",
    "orbreg = linregress(x, y)"
   ]
  },
  {
   "cell_type": "code",
   "execution_count": 14,
   "metadata": {},
   "outputs": [
    {
     "data": {
      "image/png": "[encoded data removed]",
      "text/plain": [
       "<Figure size 720x576 with 1 Axes>"
      ]
     },
     "metadata": {
      "needs_background": "light"
     },
     "output_type": "display_data"
    }
   ],
   "source": [
    "fig,(ax1) = plt.subplots(1, 1,figsize=(10,8))\n",
    "\n",
    "#ax1.scatter(center,Sigma_orb, label='Universe Machine Data tagged as orbiting')\n",
    "j=ax1.errorbar(center,Sigma_orb,Sigma_orb_e,linestyle='None', label='Orbiting data')\n",
    "ax1.plot(center, np.exp(orbreg.intercept)*np.exp(center*orbreg.slope), label='Orbiting Exponential Fit')\n",
    "\n",
    "ax1.legend()\n",
    "ax1.set_xlabel('$r/r_{edge}$')\n",
    "ax1.set_ylabel('$\\Sigma$')\n",
    "#ax1.set_xscale('log')\n",
    "ax1.set_yscale('log')"
   ]
  },
  {
   "cell_type": "code",
   "execution_count": 35,
   "metadata": {},
   "outputs": [
    {
     "data": {
      "text/plain": [
       "-6.112998357436866"
      ]
     },
     "execution_count": 35,
     "metadata": {},
     "output_type": "execute_result"
    }
   ],
   "source": [
    "orbreg.slope"
   ]
  },
  {
   "cell_type": "code",
   "execution_count": 29,
   "metadata": {},
   "outputs": [],
   "source": [
    "from scipy.stats import linregress\n",
    "\n",
    "x = np.log(center)\n",
    "y = np.log(Sigma_inf) \n",
    "\n",
    "infreg = linregress(x, y)\n",
    "\n",
    "x = np.log(center)\n",
    "y = np.log(Sigma_bg) \n",
    "\n",
    "bgreg = linregress(x, y)"
   ]
  },
  {
   "cell_type": "code",
   "execution_count": 34,
   "metadata": {},
   "outputs": [
    {
     "data": {
      "image/png": "[encoded data removed]",
      "text/plain": [
       "<Figure size 720x576 with 1 Axes>"
      ]
     },
     "metadata": {
      "needs_background": "light"
     },
     "output_type": "display_data"
    }
   ],
   "source": [
    "fig,(ax1) = plt.subplots(1, 1,figsize=(10,8))\n",
    "\n",
    "ax1.plot(center, np.exp(infreg.intercept)*center**infreg.slope, label='Fit, full data')\n",
    "j=ax1.errorbar(center,Sigma_inf,Sigma_inf_e,linestyle='None', label='Infalling Power-law Fit')\n",
    "\n",
    "ax1.legend()\n",
    "ax1.set_xlabel('$r/r_{edge}$')\n",
    "ax1.set_ylabel('$\\Sigma$')\n",
    "#ax1.set_ylim([1e2,1e7])\n",
    "ax1.set_xscale('log')\n",
    "ax1.set_yscale('log')"
   ]
  },
  {
   "cell_type": "code",
   "execution_count": 28,
   "metadata": {},
   "outputs": [
    {
     "data": {
      "text/plain": [
       "73401.37542051473"
      ]
     },
     "execution_count": 28,
     "metadata": {},
     "output_type": "execute_result"
    }
   ],
   "source": [
    "np.exp(infreg.intercept)"
   ]
  },
  {
   "cell_type": "code",
   "execution_count": 29,
   "metadata": {},
   "outputs": [
    {
     "data": {
      "text/plain": [
       "-0.7641214286005513"
      ]
     },
     "execution_count": 29,
     "metadata": {},
     "output_type": "execute_result"
    }
   ],
   "source": [
    "infreg.slope"
   ]
  },
  {
   "cell_type": "code",
   "execution_count": 94,
   "metadata": {},
   "outputs": [],
   "source": [
    "Sigma=pd.DataFrame({'r':center,'sigma_orb':Sigma_orb,'sigma_inf':Sigma_inf,'sigma_bg':Sigma_bg})"
   ]
  },
  {
   "cell_type": "code",
   "execution_count": 95,
   "metadata": {},
   "outputs": [],
   "source": [
    "import pickle\n",
    "\n",
    "output = open('Sigma.pkl', 'wb')\n",
    "pickle.dump(Sigma, output)\n",
    "output.close()"
   ]
  }
 ],
 "metadata": {
  "kernelspec": {
   "display_name": "redmapper",
   "language": "python",
   "name": "redmapper"
  },
  "language_info": {
   "codemirror_mode": {
    "name": "ipython",
    "version": 3
   },
   "file_extension": ".py",
   "mimetype": "text/x-python",
   "name": "python",
   "nbconvert_exporter": "python",
   "pygments_lexer": "ipython3",
   "version": "3.8.10"
  }
 },
 "nbformat": 4,
 "nbformat_minor": 4
}
